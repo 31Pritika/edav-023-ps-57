{
  "nbformat": 4,
  "nbformat_minor": 0,
  "metadata": {
    "colab": {
      "provenance": [],
      "authorship_tag": "ABX9TyOdBMetQ01KvK0xj1d1mnoq",
      "include_colab_link": true
    },
    "kernelspec": {
      "name": "python3",
      "display_name": "Python 3"
    },
    "language_info": {
      "name": "python"
    }
  },
  "cells": [
    {
      "cell_type": "markdown",
      "metadata": {
        "id": "view-in-github",
        "colab_type": "text"
      },
      "source": [
        "<a href=\"https://colab.research.google.com/github/31Pritika/edav-023-ps-57/blob/main/160124737023_57_Study_tax_revenue_trends_and_contribution_by_different_sources.ipynb\" target=\"_parent\"><img src=\"https://colab.research.google.com/assets/colab-badge.svg\" alt=\"Open In Colab\"/></a>"
      ]
    },
    {
      "cell_type": "markdown",
      "source": [
        "# Name: Pritika Agarwal\n",
        "## Roll number: 1601-24-737-023\n",
        "### Problem Statement: Study tax revenue trends and contribution by different sources.\n",
        "Department of IT\n",
        "Chaitanya Bharathi Institue of Technology, Hyderabad"
      ],
      "metadata": {
        "id": "0vsF_p-XRioK"
      }
    },
    {
      "cell_type": "code",
      "execution_count": 3,
      "metadata": {
        "colab": {
          "base_uri": "https://localhost:8080/"
        },
        "id": "_xgC2uYj-sAt",
        "outputId": "5887caa1-afeb-46bd-daf4-81df96547d6b"
      },
      "outputs": [
        {
          "output_type": "stream",
          "name": "stdout",
          "text": [
            "               State     Tax_Source  Revenue_Cr  Tax_Rate_%   GDP_Cr  \\\n",
            "0  2015  Maharashtra            GST     84807.0        11.0  3293756   \n",
            "1  2015  Maharashtra     Income Tax         NaN        11.7  2930214   \n",
            "2  2015  Maharashtra  Corporate Tax     87666.0        11.3  3412344   \n",
            "3  2015  Maharashtra    Excise Duty    285400.0         9.9  3008874   \n",
            "4  2015  Maharashtra        Customs    219197.0         7.9  2429732   \n",
            "\n",
            "   Population_M  Missing_Flag  \n",
            "0           106             0  \n",
            "1            47             1  \n",
            "2            60             0  \n",
            "3            49             0  \n",
            "4            37             0  \n",
            "\n",
            "<class 'pandas.core.frame.DataFrame'>\n",
            "RangeIndex: 500 entries, 0 to 499\n",
            "Data columns (total 8 columns):\n",
            " #   Column        Non-Null Count  Dtype  \n",
            "---  ------        --------------  -----  \n",
            " 0                 500 non-null    int64  \n",
            " 1   State         500 non-null    object \n",
            " 2   Tax_Source    500 non-null    object \n",
            " 3   Revenue_Cr    456 non-null    float64\n",
            " 4   Tax_Rate_%    500 non-null    float64\n",
            " 5   GDP_Cr        500 non-null    int64  \n",
            " 6   Population_M  500 non-null    int64  \n",
            " 7   Missing_Flag  500 non-null    int64  \n",
            "dtypes: float64(2), int64(4), object(2)\n",
            "memory usage: 31.4+ KB\n",
            "None\n",
            "\n"
          ]
        }
      ],
      "source": [
        "import pandas as pd\n",
        "df = pd.read_csv('/content/Indian_Tax_Revenue_2015_2024.csv')\n",
        "\n",
        "print(df.head())\n",
        "print()\n",
        "print(df.info())\n",
        "print()\n"
      ]
    },
    {
      "cell_type": "code",
      "source": [
        "# Q1: Calculate average tax revenue (BL-3);\n",
        "df_average = df['Revenue_Cr'].mean()\n",
        "print()\n",
        "print(f\"The average revenue from the following data is: {df_average} crores\")\n",
        "\n",
        "print()"
      ],
      "metadata": {
        "colab": {
          "base_uri": "https://localhost:8080/"
        },
        "id": "94UMBiW1UemF",
        "outputId": "c7557c02-7a63-4438-a235-f8b96d793ed1"
      },
      "execution_count": null,
      "outputs": [
        {
          "output_type": "stream",
          "name": "stdout",
          "text": [
            "\n",
            "The average revenue from the following data is: 186379.59210526315 crores\n",
            "\n"
          ]
        }
      ]
    },
    {
      "cell_type": "code",
      "source": [
        "#Q2: Filter tax data by source (BL-3);\n",
        "source = input(\"Enter the source of Tax(GST, Income Tax, Corporate Tax, Customs..): \")\n",
        "df_filter = df[df['Tax_Source'].str.lower() == source.lower()]\n",
        "print(f\"After filtering data by the {source}:\")\n",
        "print(df_filter.head())"
      ],
      "metadata": {
        "colab": {
          "base_uri": "https://localhost:8080/"
        },
        "id": "ixrZCnM2UiXT",
        "outputId": "bf42ab62-f31b-4930-f91b-c3424065ade9"
      },
      "execution_count": null,
      "outputs": [
        {
          "output_type": "stream",
          "name": "stdout",
          "text": [
            "Enter the source of Tax(GST, Income Tax, Corporate Tax, Customs..): income tax\n",
            "After filtering data by the income tax:\n",
            "    Year        State  Tax_Source  Revenue_Cr  Tax_Rate_%   GDP_Cr  \\\n",
            "1   2015  Maharashtra  Income Tax         NaN        11.7  2930214   \n",
            "6   2015      Gujarat  Income Tax     79257.0         9.8  3877278   \n",
            "11  2015   Tamil Nadu  Income Tax    302515.0        10.0  2185762   \n",
            "16  2015    Karnataka  Income Tax     25650.0         9.0  1933314   \n",
            "21  2015        Delhi  Income Tax    197476.0         9.3  3319079   \n",
            "\n",
            "    Population_M  Missing_Flag  \n",
            "1             47             1  \n",
            "6             57             0  \n",
            "11            39             0  \n",
            "16           110             0  \n",
            "21            34             0  \n"
          ]
        }
      ]
    },
    {
      "cell_type": "code",
      "source": [
        "#Q3: Impute missing tax values (BL-4);\n",
        "df_mean = df['Revenue_Cr'].mean()\n",
        "df_fill = df.fillna(df_mean)\n",
        "print(df_fill.head())\n",
        "\n"
      ],
      "metadata": {
        "colab": {
          "base_uri": "https://localhost:8080/"
        },
        "id": "5NESzRLF034i",
        "outputId": "498ced60-27c6-47e3-947f-c879e0c4175f"
      },
      "execution_count": null,
      "outputs": [
        {
          "output_type": "stream",
          "name": "stdout",
          "text": [
            "   Year        State     Tax_Source     Revenue_Cr  Tax_Rate_%   GDP_Cr  \\\n",
            "0  2015  Maharashtra            GST   84807.000000        11.0  3293756   \n",
            "1  2015  Maharashtra     Income Tax  186379.592105        11.7  2930214   \n",
            "2  2015  Maharashtra  Corporate Tax   87666.000000        11.3  3412344   \n",
            "3  2015  Maharashtra    Excise Duty  285400.000000         9.9  3008874   \n",
            "4  2015  Maharashtra        Customs  219197.000000         7.9  2429732   \n",
            "\n",
            "   Population_M  Missing_Flag  \n",
            "0           106             0  \n",
            "1            47             1  \n",
            "2            60             0  \n",
            "3            49             0  \n",
            "4            37             0  \n"
          ]
        }
      ]
    },
    {
      "cell_type": "code",
      "source": [
        "# Q4: Group revenue by state and type (BL-4);\n",
        "df_group = df.groupby(['State', 'Tax_Source'])['Revenue_Cr'].sum()\n",
        "df_group\n"
      ],
      "metadata": {
        "colab": {
          "base_uri": "https://localhost:8080/",
          "height": 1000
        },
        "id": "1iv0SLlm1-QR",
        "outputId": "302a6be6-9138-46d8-a543-5e6d80e39d05"
      },
      "execution_count": null,
      "outputs": [
        {
          "output_type": "execute_result",
          "data": {
            "text/plain": [
              "State          Tax_Source   \n",
              "Delhi          Corporate Tax    1257797.0\n",
              "               Customs          2139210.0\n",
              "               Excise Duty      2155076.0\n",
              "               GST              2063735.0\n",
              "               Income Tax       1843078.0\n",
              "Gujarat        Corporate Tax    2219532.0\n",
              "               Customs          1557341.0\n",
              "               Excise Duty       927429.0\n",
              "               GST              1868811.0\n",
              "               Income Tax       1543110.0\n",
              "Karnataka      Corporate Tax    1671017.0\n",
              "               Customs          1308694.0\n",
              "               Excise Duty      1568614.0\n",
              "               GST              1276904.0\n",
              "               Income Tax       1593154.0\n",
              "Kerala         Corporate Tax    1723466.0\n",
              "               Customs          1325468.0\n",
              "               Excise Duty      1474249.0\n",
              "               GST              1526245.0\n",
              "               Income Tax       1491644.0\n",
              "Maharashtra    Corporate Tax    1459208.0\n",
              "               Customs          2309864.0\n",
              "               Excise Duty      2112461.0\n",
              "               GST              2152064.0\n",
              "               Income Tax       1215240.0\n",
              "Rajasthan      Corporate Tax    1476256.0\n",
              "               Customs          1508991.0\n",
              "               Excise Duty      1496943.0\n",
              "               GST              1700853.0\n",
              "               Income Tax       1960443.0\n",
              "Tamil Nadu     Corporate Tax    1801849.0\n",
              "               Customs          2137301.0\n",
              "               Excise Duty      1692598.0\n",
              "               GST              1905973.0\n",
              "               Income Tax       2056182.0\n",
              "Telangana      Corporate Tax    1472682.0\n",
              "               Customs          1971767.0\n",
              "               Excise Duty      2040634.0\n",
              "               GST              1549891.0\n",
              "               Income Tax       1654283.0\n",
              "Uttar Pradesh  Corporate Tax    2010067.0\n",
              "               Customs          1497360.0\n",
              "               Excise Duty      1551103.0\n",
              "               GST              1852350.0\n",
              "               Income Tax       1930362.0\n",
              "West Bengal    Corporate Tax    1388547.0\n",
              "               Customs          1981861.0\n",
              "               Excise Duty      1222771.0\n",
              "               GST              1860989.0\n",
              "               Income Tax       1483627.0\n",
              "Name: Revenue_Cr, dtype: float64"
            ],
            "text/html": [
              "<div>\n",
              "<style scoped>\n",
              "    .dataframe tbody tr th:only-of-type {\n",
              "        vertical-align: middle;\n",
              "    }\n",
              "\n",
              "    .dataframe tbody tr th {\n",
              "        vertical-align: top;\n",
              "    }\n",
              "\n",
              "    .dataframe thead th {\n",
              "        text-align: right;\n",
              "    }\n",
              "</style>\n",
              "<table border=\"1\" class=\"dataframe\">\n",
              "  <thead>\n",
              "    <tr style=\"text-align: right;\">\n",
              "      <th></th>\n",
              "      <th></th>\n",
              "      <th>Revenue_Cr</th>\n",
              "    </tr>\n",
              "    <tr>\n",
              "      <th>State</th>\n",
              "      <th>Tax_Source</th>\n",
              "      <th></th>\n",
              "    </tr>\n",
              "  </thead>\n",
              "  <tbody>\n",
              "    <tr>\n",
              "      <th rowspan=\"5\" valign=\"top\">Delhi</th>\n",
              "      <th>Corporate Tax</th>\n",
              "      <td>1257797.0</td>\n",
              "    </tr>\n",
              "    <tr>\n",
              "      <th>Customs</th>\n",
              "      <td>2139210.0</td>\n",
              "    </tr>\n",
              "    <tr>\n",
              "      <th>Excise Duty</th>\n",
              "      <td>2155076.0</td>\n",
              "    </tr>\n",
              "    <tr>\n",
              "      <th>GST</th>\n",
              "      <td>2063735.0</td>\n",
              "    </tr>\n",
              "    <tr>\n",
              "      <th>Income Tax</th>\n",
              "      <td>1843078.0</td>\n",
              "    </tr>\n",
              "    <tr>\n",
              "      <th rowspan=\"5\" valign=\"top\">Gujarat</th>\n",
              "      <th>Corporate Tax</th>\n",
              "      <td>2219532.0</td>\n",
              "    </tr>\n",
              "    <tr>\n",
              "      <th>Customs</th>\n",
              "      <td>1557341.0</td>\n",
              "    </tr>\n",
              "    <tr>\n",
              "      <th>Excise Duty</th>\n",
              "      <td>927429.0</td>\n",
              "    </tr>\n",
              "    <tr>\n",
              "      <th>GST</th>\n",
              "      <td>1868811.0</td>\n",
              "    </tr>\n",
              "    <tr>\n",
              "      <th>Income Tax</th>\n",
              "      <td>1543110.0</td>\n",
              "    </tr>\n",
              "    <tr>\n",
              "      <th rowspan=\"5\" valign=\"top\">Karnataka</th>\n",
              "      <th>Corporate Tax</th>\n",
              "      <td>1671017.0</td>\n",
              "    </tr>\n",
              "    <tr>\n",
              "      <th>Customs</th>\n",
              "      <td>1308694.0</td>\n",
              "    </tr>\n",
              "    <tr>\n",
              "      <th>Excise Duty</th>\n",
              "      <td>1568614.0</td>\n",
              "    </tr>\n",
              "    <tr>\n",
              "      <th>GST</th>\n",
              "      <td>1276904.0</td>\n",
              "    </tr>\n",
              "    <tr>\n",
              "      <th>Income Tax</th>\n",
              "      <td>1593154.0</td>\n",
              "    </tr>\n",
              "    <tr>\n",
              "      <th rowspan=\"5\" valign=\"top\">Kerala</th>\n",
              "      <th>Corporate Tax</th>\n",
              "      <td>1723466.0</td>\n",
              "    </tr>\n",
              "    <tr>\n",
              "      <th>Customs</th>\n",
              "      <td>1325468.0</td>\n",
              "    </tr>\n",
              "    <tr>\n",
              "      <th>Excise Duty</th>\n",
              "      <td>1474249.0</td>\n",
              "    </tr>\n",
              "    <tr>\n",
              "      <th>GST</th>\n",
              "      <td>1526245.0</td>\n",
              "    </tr>\n",
              "    <tr>\n",
              "      <th>Income Tax</th>\n",
              "      <td>1491644.0</td>\n",
              "    </tr>\n",
              "    <tr>\n",
              "      <th rowspan=\"5\" valign=\"top\">Maharashtra</th>\n",
              "      <th>Corporate Tax</th>\n",
              "      <td>1459208.0</td>\n",
              "    </tr>\n",
              "    <tr>\n",
              "      <th>Customs</th>\n",
              "      <td>2309864.0</td>\n",
              "    </tr>\n",
              "    <tr>\n",
              "      <th>Excise Duty</th>\n",
              "      <td>2112461.0</td>\n",
              "    </tr>\n",
              "    <tr>\n",
              "      <th>GST</th>\n",
              "      <td>2152064.0</td>\n",
              "    </tr>\n",
              "    <tr>\n",
              "      <th>Income Tax</th>\n",
              "      <td>1215240.0</td>\n",
              "    </tr>\n",
              "    <tr>\n",
              "      <th rowspan=\"5\" valign=\"top\">Rajasthan</th>\n",
              "      <th>Corporate Tax</th>\n",
              "      <td>1476256.0</td>\n",
              "    </tr>\n",
              "    <tr>\n",
              "      <th>Customs</th>\n",
              "      <td>1508991.0</td>\n",
              "    </tr>\n",
              "    <tr>\n",
              "      <th>Excise Duty</th>\n",
              "      <td>1496943.0</td>\n",
              "    </tr>\n",
              "    <tr>\n",
              "      <th>GST</th>\n",
              "      <td>1700853.0</td>\n",
              "    </tr>\n",
              "    <tr>\n",
              "      <th>Income Tax</th>\n",
              "      <td>1960443.0</td>\n",
              "    </tr>\n",
              "    <tr>\n",
              "      <th rowspan=\"5\" valign=\"top\">Tamil Nadu</th>\n",
              "      <th>Corporate Tax</th>\n",
              "      <td>1801849.0</td>\n",
              "    </tr>\n",
              "    <tr>\n",
              "      <th>Customs</th>\n",
              "      <td>2137301.0</td>\n",
              "    </tr>\n",
              "    <tr>\n",
              "      <th>Excise Duty</th>\n",
              "      <td>1692598.0</td>\n",
              "    </tr>\n",
              "    <tr>\n",
              "      <th>GST</th>\n",
              "      <td>1905973.0</td>\n",
              "    </tr>\n",
              "    <tr>\n",
              "      <th>Income Tax</th>\n",
              "      <td>2056182.0</td>\n",
              "    </tr>\n",
              "    <tr>\n",
              "      <th rowspan=\"5\" valign=\"top\">Telangana</th>\n",
              "      <th>Corporate Tax</th>\n",
              "      <td>1472682.0</td>\n",
              "    </tr>\n",
              "    <tr>\n",
              "      <th>Customs</th>\n",
              "      <td>1971767.0</td>\n",
              "    </tr>\n",
              "    <tr>\n",
              "      <th>Excise Duty</th>\n",
              "      <td>2040634.0</td>\n",
              "    </tr>\n",
              "    <tr>\n",
              "      <th>GST</th>\n",
              "      <td>1549891.0</td>\n",
              "    </tr>\n",
              "    <tr>\n",
              "      <th>Income Tax</th>\n",
              "      <td>1654283.0</td>\n",
              "    </tr>\n",
              "    <tr>\n",
              "      <th rowspan=\"5\" valign=\"top\">Uttar Pradesh</th>\n",
              "      <th>Corporate Tax</th>\n",
              "      <td>2010067.0</td>\n",
              "    </tr>\n",
              "    <tr>\n",
              "      <th>Customs</th>\n",
              "      <td>1497360.0</td>\n",
              "    </tr>\n",
              "    <tr>\n",
              "      <th>Excise Duty</th>\n",
              "      <td>1551103.0</td>\n",
              "    </tr>\n",
              "    <tr>\n",
              "      <th>GST</th>\n",
              "      <td>1852350.0</td>\n",
              "    </tr>\n",
              "    <tr>\n",
              "      <th>Income Tax</th>\n",
              "      <td>1930362.0</td>\n",
              "    </tr>\n",
              "    <tr>\n",
              "      <th rowspan=\"5\" valign=\"top\">West Bengal</th>\n",
              "      <th>Corporate Tax</th>\n",
              "      <td>1388547.0</td>\n",
              "    </tr>\n",
              "    <tr>\n",
              "      <th>Customs</th>\n",
              "      <td>1981861.0</td>\n",
              "    </tr>\n",
              "    <tr>\n",
              "      <th>Excise Duty</th>\n",
              "      <td>1222771.0</td>\n",
              "    </tr>\n",
              "    <tr>\n",
              "      <th>GST</th>\n",
              "      <td>1860989.0</td>\n",
              "    </tr>\n",
              "    <tr>\n",
              "      <th>Income Tax</th>\n",
              "      <td>1483627.0</td>\n",
              "    </tr>\n",
              "  </tbody>\n",
              "</table>\n",
              "</div><br><label><b>dtype:</b> float64</label>"
            ]
          },
          "metadata": {},
          "execution_count": 33
        }
      ]
    },
    {
      "cell_type": "code",
      "source": [
        "#  Q5: Visualize tax revenue growth (BL-5)\n",
        "\n",
        "import matplotlib.pyplot as plt\n",
        "\n",
        "year = df.groupby('Year')['Revenue_Cr'].sum()\n",
        "year.head()\n",
        "\n",
        "plt.figure(figsize=(10,6))\n",
        "plt.plot(year, marker='o', linewidth=2)\n",
        "plt.title('Total Tax Revenue Growth (2015–2024)', fontsize=14)\n",
        "plt.xlabel('Year')\n",
        "plt.ylabel('Revenue (₹ Crores)')\n",
        "plt.show()\n",
        "\n",
        "\n",
        "\n",
        "\n"
      ],
      "metadata": {
        "colab": {
          "base_uri": "https://localhost:8080/",
          "height": 565
        },
        "id": "-JQPy1JV6BgW",
        "outputId": "d596516a-84bb-4638-fc03-80d1c3401d09"
      },
      "execution_count": null,
      "outputs": [
        {
          "output_type": "display_data",
          "data": {
            "text/plain": [
              "<Figure size 1000x600 with 1 Axes>"
            ],
            "image/png": "[encoded data removed]"
          },
          "metadata": {}
        }
      ]
    },
    {
      "cell_type": "markdown",
      "source": [
        "## Summary:\n",
        "This project studies tax revenue trends and contributions from different sources across various Indian states between 2015 and 2024. Using a custom dataset, it analyzes patterns in tax collection, identifies missing or incomplete values, and visualizes overall revenue growth.\n",
        "\n",
        "Key steps include:\n",
        "\n",
        "Data Analysis: Calculated average tax revenue and filtered records by tax source (GST, Income Tax, etc).\n",
        "\n",
        "Data Cleaning: Imputed missing revenue values to ensure dataset completeness.\n",
        "\n",
        "Grouping & Aggregation: Grouped tax data by state and tax type to compare performance.\n",
        "\n",
        "Visualization: Created line graphs using Matplotlib to illustrate year-wise growth trends in total tax revenue.\n",
        "\n",
        "The results highlight how different tax sources contribute to national revenue growth and reveal year-to-year variations across states. The project demonstrates practical skills in data handling, analysis, and visualization using Python (Pandas, Matplotlib)."
      ],
      "metadata": {
        "id": "f0yUwCglLlch"
      }
    },
    {
      "cell_type": "code",
      "source": [],
      "metadata": {
        "id": "_Vs0jChvMOrM"
      },
      "execution_count": null,
      "outputs": []
    }
  ]
}